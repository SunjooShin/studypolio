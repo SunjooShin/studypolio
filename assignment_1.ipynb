{
 "cells": [
  {
   "cell_type": "markdown",
   "metadata": {},
   "source": [
    "# Programmers\n",
    "### 가운데 글자 가져오기\n",
    "나의 풀이"
   ]
  },
  {
   "cell_type": "code",
   "execution_count": 1,
   "metadata": {},
   "outputs": [],
   "source": [
    "def solution(s):\n",
    "    if len(s) % 2 == 0:  \n",
    "        answer = s[int(len(s)/2-1):int(len(s)/2+1)]\n",
    "    else:\n",
    "        answer = s[int(len(s)/2)]\n",
    "    return answer"
   ]
  },
  {
   "cell_type": "markdown",
   "metadata": {},
   "source": [
    "다른 풀이"
   ]
  },
  {
   "cell_type": "code",
   "execution_count": 7,
   "metadata": {},
   "outputs": [],
   "source": [
    "def solution(s):\n",
    "    if len(s) % 2:                                   # 홀수면\n",
    "        return s[len(s)//2]                         # 가운데 값을 리턴\n",
    "    else:                                            # 짝수면\n",
    "        return s[(len(s)//2-1):int(len(s)//2+1)]    # 가운데 두 값 리턴"
   ]
  },
  {
   "cell_type": "markdown",
   "metadata": {},
   "source": [
    "==을 안해도 되는 이유:<br/>\n",
    "if문 뒤의 조건문은 True/False를 따짐<br/>\n",
    "if문에 정수가 나올 때, 정수가 0이면 False, 1이면 True라고 리턴함<br/>\n",
    "//: 몫을 구해주는 기호"
   ]
  },
  {
   "cell_type": "code",
   "execution_count": 6,
   "metadata": {},
   "outputs": [
    {
     "name": "stdout",
     "output_type": "stream",
     "text": [
      "This is True!\n"
     ]
    }
   ],
   "source": [
    "if 1:\n",
    "    print(\"This is True!\")\n",
    "else:\n",
    "    print(\"This is False!\")"
   ]
  },
  {
   "cell_type": "markdown",
   "metadata": {},
   "source": [
    "### 서울에서 김서방 찾기\n",
    "나의 풀이"
   ]
  },
  {
   "cell_type": "code",
   "execution_count": 3,
   "metadata": {},
   "outputs": [],
   "source": [
    "def solution(seoul):\n",
    "    return str(\"김서방은 {}에 있다\".format(seoul.index(\"Kim\")))"
   ]
  },
  {
   "cell_type": "markdown",
   "metadata": {},
   "source": [
    "다른 풀이"
   ]
  },
  {
   "cell_type": "code",
   "execution_count": 1,
   "metadata": {},
   "outputs": [],
   "source": [
    "def solution(seoul):    \n",
    "    number = -1          # n번째라는 것을 카운트하고 리턴하기 위해 시작값 지정\n",
    "    for i in seoul:      # seoul에서의 'Kim' 적발을 위해 반복\n",
    "        if i != 'Kim':   # 이번 element가 'Kim'이 아니라면\n",
    "            number += 1  # n번째가 n+1번째가 되게 하고\n",
    "            continue     # 리턴값 없이 다음 반복 진행\n",
    "        else:            # 이번 element가 'Kim'이라면 (한 번만 등장)\n",
    "            number += 1  # n번째가 n+1번째가 되게 하고\n",
    "            return \"김서방은 %d에 있다\" % number # 이를 출력"
   ]
  },
  {
   "cell_type": "code",
   "execution_count": 14,
   "metadata": {},
   "outputs": [],
   "source": [
    "def solution(seoul):\n",
    "    for i, name in enumerate(seoul):\n",
    "        if name == 'Kim':\n",
    "            return \"김서방은 \" + str(i) + \"에 있다\""
   ]
  },
  {
   "cell_type": "markdown",
   "metadata": {},
   "source": [
    "enumerate 함수: 리스트 안의 값을 tuple로 반환해줌"
   ]
  },
  {
   "cell_type": "code",
   "execution_count": 15,
   "metadata": {},
   "outputs": [],
   "source": [
    "def solution(seoul):\n",
    "    for index_num in range(len(seoul)):\n",
    "        if seoul[index_num] == \"Kim\":\n",
    "            return \"김서방은 {}에 있다\".format(index_num)"
   ]
  },
  {
   "cell_type": "markdown",
   "metadata": {},
   "source": [
    "### 핸드폰 번호 가리기\n",
    "나의 풀이"
   ]
  },
  {
   "cell_type": "code",
   "execution_count": 5,
   "metadata": {},
   "outputs": [],
   "source": [
    "def solution(phone_number):\n",
    "    return str((len(phone_number)-4)*\"*\" + phone_number[-4:])"
   ]
  },
  {
   "cell_type": "markdown",
   "metadata": {},
   "source": [
    "다른 풀이"
   ]
  },
  {
   "cell_type": "code",
   "execution_count": 11,
   "metadata": {},
   "outputs": [],
   "source": [
    "# 오답\n",
    "def solution(phone_number):\n",
    "    return phone.number.replace(phone_number[0:-4], \"*\" * len(phone_number[0:-4]))"
   ]
  },
  {
   "cell_type": "code",
   "execution_count": 13,
   "metadata": {},
   "outputs": [
    {
     "data": {
      "text/plain": [
       "'010********'"
      ]
     },
     "execution_count": 13,
     "metadata": {},
     "output_type": "execute_result"
    }
   ],
   "source": [
    "# 이유: replace 함수는 같은 숫자가 뒤 4자리에 있으면 함께 변경함\n",
    "p = \"01033333333\"\n",
    "p.replace(\"3333\",\"*\"*4)"
   ]
  }
 ],
 "metadata": {
  "kernelspec": {
   "display_name": "Python 3",
   "language": "python",
   "name": "python3"
  },
  "language_info": {
   "codemirror_mode": {
    "name": "ipython",
    "version": 3
   },
   "file_extension": ".py",
   "mimetype": "text/x-python",
   "name": "python",
   "nbconvert_exporter": "python",
   "pygments_lexer": "ipython3",
   "version": "3.7.6"
  }
 },
 "nbformat": 4,
 "nbformat_minor": 4
}
